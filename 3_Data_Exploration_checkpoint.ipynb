{
  "cells": [
    {
      "cell_type": "markdown",
      "metadata": {
        "id": "xvS-9uuWfe2W"
      },
      "source": [
        "# Data Exploration BACI HS17 (2017 - 2020)"
      ]
    },
    {
      "cell_type": "code",
      "execution_count": null,
      "metadata": {
        "id": "wj6aQy7qfe2Y"
      },
      "outputs": [],
      "source": [
        "import pandas as pd\n",
        "import seaborn as sns"
      ]
    },
    {
      "cell_type": "code",
      "execution_count": null,
      "metadata": {
        "id": "ydeNJvrVfe2b"
      },
      "outputs": [],
      "source": [
        "df = pd.read_csv('Processed Data\\Allfrom2020.csv')"
      ]
    },
    {
      "cell_type": "code",
      "execution_count": null,
      "metadata": {
        "id": "xj1qBwo1fe2d",
        "outputId": "529f171f-4a84-431c-9cd6-5d5c43ace88c"
      },
      "outputs": [
        {
          "data": {
            "text/html": [
              "<div>\n",
              "<style scoped>\n",
              "    .dataframe tbody tr th:only-of-type {\n",
              "        vertical-align: middle;\n",
              "    }\n",
              "\n",
              "    .dataframe tbody tr th {\n",
              "        vertical-align: top;\n",
              "    }\n",
              "\n",
              "    .dataframe thead th {\n",
              "        text-align: right;\n",
              "    }\n",
              "</style>\n",
              "<table border=\"1\" class=\"dataframe\">\n",
              "  <thead>\n",
              "    <tr style=\"text-align: right;\">\n",
              "      <th></th>\n",
              "      <th>Product category HS[2]</th>\n",
              "      <th>Value</th>\n",
              "    </tr>\n",
              "  </thead>\n",
              "  <tbody>\n",
              "    <tr>\n",
              "      <th>0</th>\n",
              "      <td>10</td>\n",
              "      <td>1.250173e+08</td>\n",
              "    </tr>\n",
              "    <tr>\n",
              "      <th>1</th>\n",
              "      <td>11</td>\n",
              "      <td>2.031384e+07</td>\n",
              "    </tr>\n",
              "    <tr>\n",
              "      <th>2</th>\n",
              "      <td>12</td>\n",
              "      <td>1.098929e+08</td>\n",
              "    </tr>\n",
              "    <tr>\n",
              "      <th>3</th>\n",
              "      <td>13</td>\n",
              "      <td>8.012681e+06</td>\n",
              "    </tr>\n",
              "    <tr>\n",
              "      <th>4</th>\n",
              "      <td>14</td>\n",
              "      <td>1.299986e+06</td>\n",
              "    </tr>\n",
              "  </tbody>\n",
              "</table>\n",
              "</div>"
            ],
            "text/plain": [
              "   Product category HS[2]         Value\n",
              "0                      10  1.250173e+08\n",
              "1                      11  2.031384e+07\n",
              "2                      12  1.098929e+08\n",
              "3                      13  8.012681e+06\n",
              "4                      14  1.299986e+06"
            ]
          },
          "execution_count": 3,
          "metadata": {},
          "output_type": "execute_result"
        }
      ],
      "source": [
        "df_agg_category = df[['Product category HS[2]', 'Value']].groupby('Product category HS[2]').sum()\n",
        "df_agg_category.reset_index(inplace=True)\n",
        "df_agg_category.head()"
      ]
    },
    {
      "cell_type": "code",
      "execution_count": null,
      "metadata": {
        "id": "df2LLEu8fe2f",
        "outputId": "1e179b9b-4ecd-45f3-daa3-c369ec5cc38d"
      },
      "outputs": [
        {
          "data": {
            "text/html": [
              "<div>\n",
              "<style scoped>\n",
              "    .dataframe tbody tr th:only-of-type {\n",
              "        vertical-align: middle;\n",
              "    }\n",
              "\n",
              "    .dataframe tbody tr th {\n",
              "        vertical-align: top;\n",
              "    }\n",
              "\n",
              "    .dataframe thead th {\n",
              "        text-align: right;\n",
              "    }\n",
              "</style>\n",
              "<table border=\"1\" class=\"dataframe\">\n",
              "  <thead>\n",
              "    <tr style=\"text-align: right;\">\n",
              "      <th></th>\n",
              "      <th>Product category HS[2]</th>\n",
              "      <th>Value</th>\n",
              "    </tr>\n",
              "  </thead>\n",
              "  <tbody>\n",
              "    <tr>\n",
              "      <th>17</th>\n",
              "      <td>27</td>\n",
              "      <td>1.497600e+09</td>\n",
              "    </tr>\n",
              "    <tr>\n",
              "      <th>20</th>\n",
              "      <td>30</td>\n",
              "      <td>6.592939e+08</td>\n",
              "    </tr>\n",
              "    <tr>\n",
              "      <th>29</th>\n",
              "      <td>39</td>\n",
              "      <td>5.948456e+08</td>\n",
              "    </tr>\n",
              "    <tr>\n",
              "      <th>61</th>\n",
              "      <td>71</td>\n",
              "      <td>6.973674e+08</td>\n",
              "    </tr>\n",
              "    <tr>\n",
              "      <th>73</th>\n",
              "      <td>84</td>\n",
              "      <td>2.103594e+09</td>\n",
              "    </tr>\n",
              "    <tr>\n",
              "      <th>74</th>\n",
              "      <td>85</td>\n",
              "      <td>2.564058e+09</td>\n",
              "    </tr>\n",
              "    <tr>\n",
              "      <th>76</th>\n",
              "      <td>87</td>\n",
              "      <td>1.288327e+09</td>\n",
              "    </tr>\n",
              "    <tr>\n",
              "      <th>79</th>\n",
              "      <td>90</td>\n",
              "      <td>5.759146e+08</td>\n",
              "    </tr>\n",
              "  </tbody>\n",
              "</table>\n",
              "</div>"
            ],
            "text/plain": [
              "    Product category HS[2]         Value\n",
              "17                      27  1.497600e+09\n",
              "20                      30  6.592939e+08\n",
              "29                      39  5.948456e+08\n",
              "61                      71  6.973674e+08\n",
              "73                      84  2.103594e+09\n",
              "74                      85  2.564058e+09\n",
              "76                      87  1.288327e+09\n",
              "79                      90  5.759146e+08"
            ]
          },
          "execution_count": 4,
          "metadata": {},
          "output_type": "execute_result"
        }
      ],
      "source": [
        "bool_maks = df_agg_category['Value'] > 500000000\n",
        "df_agg_category[bool_maks]"
      ]
    },
    {
      "cell_type": "markdown",
      "metadata": {
        "id": "lbEvlwWrfe2g"
      },
      "source": []
    },
    {
      "cell_type": "code",
      "execution_count": null,
      "metadata": {
        "id": "zMfq9bl4fe2g",
        "outputId": "61eb3531-bfdc-49e7-d301-2db0bbf84cda"
      },
      "outputs": [
        {
          "data": {
            "text/plain": [
              "<AxesSubplot:xlabel='Product category HS[2]', ylabel='Value'>"
            ]
          },
          "execution_count": 5,
          "metadata": {},
          "output_type": "execute_result"
        },
        {
          "data": {
            "image/png": "[encoded data removed]",
            "text/plain": [
              "<Figure size 842.4x595.44 with 1 Axes>"
            ]
          },
          "metadata": {},
          "output_type": "display_data"
        }
      ],
      "source": [
        "sns.set(rc={'figure.figsize':(11.7,8.27)})\n",
        "\n",
        "sns.set_theme(style=\"darkgrid\")\n",
        "sns.lineplot(x=\"Product category HS[2]\", y=\"Value\",\n",
        "             data=df_agg_category)"
      ]
    },
    {
      "cell_type": "code",
      "execution_count": null,
      "metadata": {
        "id": "6zvXYQrNfe2i",
        "outputId": "eb29e5af-3fb3-4cd0-8d2e-6b86b63d48a8"
      },
      "outputs": [
        {
          "data": {
            "text/plain": [
              "<seaborn.axisgrid.FacetGrid at 0x1ab6b809ee0>"
            ]
          },
          "execution_count": 6,
          "metadata": {},
          "output_type": "execute_result"
        },
        {
          "data": {
            "image/png": "[encoded data removed]",
            "text/plain": [
              "<Figure size 360x360 with 1 Axes>"
            ]
          },
          "metadata": {},
          "output_type": "display_data"
        }
      ],
      "source": [
        "sns.displot(x=\"Product category HS[2]\", data=df_agg_category)"
      ]
    },
    {
      "cell_type": "code",
      "execution_count": null,
      "metadata": {
        "id": "qx44D1hDfe2i",
        "outputId": "9c252ebc-fd2b-4235-a1cf-5f113676db8f"
      },
      "outputs": [
        {
          "data": {
            "text/plain": [
              "<AxesSubplot:xlabel='Value', ylabel='Count'>"
            ]
          },
          "execution_count": 7,
          "metadata": {},
          "output_type": "execute_result"
        },
        {
          "data": {
            "image/png": "[encoded data removed]",
            "text/plain": [
              "<Figure size 842.4x595.44 with 1 Axes>"
            ]
          },
          "metadata": {},
          "output_type": "display_data"
        }
      ],
      "source": [
        "sns.histplot(data=df_agg_category, x=\"Value\", bins=35)"
      ]
    },
    {
      "cell_type": "code",
      "execution_count": null,
      "metadata": {
        "id": "U52-qGEqfe2j"
      },
      "outputs": [],
      "source": [
        "# Probar es scala free, \n",
        "# prefferential attachment, \n",
        "# Desarrollo de nodo en el tiempo."
      ]
    },
    {
      "cell_type": "code",
      "execution_count": null,
      "metadata": {
        "id": "pFwRG9JWfe2k",
        "outputId": "81b76128-97be-404d-fac5-f0185dbcaaf6"
      },
      "outputs": [
        {
          "data": {
            "text/html": [
              "<div>\n",
              "<style scoped>\n",
              "    .dataframe tbody tr th:only-of-type {\n",
              "        vertical-align: middle;\n",
              "    }\n",
              "\n",
              "    .dataframe tbody tr th {\n",
              "        vertical-align: top;\n",
              "    }\n",
              "\n",
              "    .dataframe thead th {\n",
              "        text-align: right;\n",
              "    }\n",
              "</style>\n",
              "<table border=\"1\" class=\"dataframe\">\n",
              "  <thead>\n",
              "    <tr style=\"text-align: right;\">\n",
              "      <th></th>\n",
              "      <th>Year</th>\n",
              "      <th>Exporter</th>\n",
              "      <th>Importer</th>\n",
              "      <th>Product category</th>\n",
              "      <th>Value</th>\n",
              "      <th>Quantity</th>\n",
              "      <th>Importer_country_code</th>\n",
              "      <th>Importer_country_name_abbreviation</th>\n",
              "      <th>Importer_country_name_full</th>\n",
              "      <th>Importer_iso_2digit_alpha</th>\n",
              "      <th>Importer_iso_3digit_alpha</th>\n",
              "      <th>Exporter_country_code</th>\n",
              "      <th>Exporter_country_name_abbreviation</th>\n",
              "      <th>Exporter_country_name_full</th>\n",
              "      <th>Exporter_iso_2digit_alpha</th>\n",
              "      <th>Exporter_iso_3digit_alpha</th>\n",
              "      <th>Product category_code</th>\n",
              "      <th>Product category_description</th>\n",
              "      <th>Product category HS[2]</th>\n",
              "      <th>Product category HS[4]</th>\n",
              "    </tr>\n",
              "  </thead>\n",
              "  <tbody>\n",
              "    <tr>\n",
              "      <th>0</th>\n",
              "      <td>2020</td>\n",
              "      <td>4</td>\n",
              "      <td>31</td>\n",
              "      <td>251512</td>\n",
              "      <td>27.820</td>\n",
              "      <td>169.800</td>\n",
              "      <td>31</td>\n",
              "      <td>Azerbaijan</td>\n",
              "      <td>Azerbaijan</td>\n",
              "      <td>AZ</td>\n",
              "      <td>AZE</td>\n",
              "      <td>4</td>\n",
              "      <td>Afghanistan</td>\n",
              "      <td>Afghanistan</td>\n",
              "      <td>AF</td>\n",
              "      <td>AFG</td>\n",
              "      <td>251512</td>\n",
              "      <td>Marble and travertine: merely cut, by sawing o...</td>\n",
              "      <td>25</td>\n",
              "      <td>2515</td>\n",
              "    </tr>\n",
              "    <tr>\n",
              "      <th>1</th>\n",
              "      <td>2020</td>\n",
              "      <td>4</td>\n",
              "      <td>699</td>\n",
              "      <td>251512</td>\n",
              "      <td>47.296</td>\n",
              "      <td>77.000</td>\n",
              "      <td>699</td>\n",
              "      <td>India</td>\n",
              "      <td>India</td>\n",
              "      <td>IN</td>\n",
              "      <td>IND</td>\n",
              "      <td>4</td>\n",
              "      <td>Afghanistan</td>\n",
              "      <td>Afghanistan</td>\n",
              "      <td>AF</td>\n",
              "      <td>AFG</td>\n",
              "      <td>251512</td>\n",
              "      <td>Marble and travertine: merely cut, by sawing o...</td>\n",
              "      <td>25</td>\n",
              "      <td>2515</td>\n",
              "    </tr>\n",
              "    <tr>\n",
              "      <th>2</th>\n",
              "      <td>2020</td>\n",
              "      <td>8</td>\n",
              "      <td>40</td>\n",
              "      <td>251512</td>\n",
              "      <td>6.167</td>\n",
              "      <td>24.000</td>\n",
              "      <td>40</td>\n",
              "      <td>Austria</td>\n",
              "      <td>Austria</td>\n",
              "      <td>AT</td>\n",
              "      <td>AUT</td>\n",
              "      <td>8</td>\n",
              "      <td>Albania</td>\n",
              "      <td>Albania</td>\n",
              "      <td>AL</td>\n",
              "      <td>ALB</td>\n",
              "      <td>251512</td>\n",
              "      <td>Marble and travertine: merely cut, by sawing o...</td>\n",
              "      <td>25</td>\n",
              "      <td>2515</td>\n",
              "    </tr>\n",
              "    <tr>\n",
              "      <th>3</th>\n",
              "      <td>2020</td>\n",
              "      <td>8</td>\n",
              "      <td>56</td>\n",
              "      <td>251512</td>\n",
              "      <td>65.795</td>\n",
              "      <td>294.660</td>\n",
              "      <td>56</td>\n",
              "      <td>Belgium</td>\n",
              "      <td>Belgium</td>\n",
              "      <td>BE</td>\n",
              "      <td>BEL</td>\n",
              "      <td>8</td>\n",
              "      <td>Albania</td>\n",
              "      <td>Albania</td>\n",
              "      <td>AL</td>\n",
              "      <td>ALB</td>\n",
              "      <td>251512</td>\n",
              "      <td>Marble and travertine: merely cut, by sawing o...</td>\n",
              "      <td>25</td>\n",
              "      <td>2515</td>\n",
              "    </tr>\n",
              "    <tr>\n",
              "      <th>4</th>\n",
              "      <td>2020</td>\n",
              "      <td>8</td>\n",
              "      <td>70</td>\n",
              "      <td>251512</td>\n",
              "      <td>4.662</td>\n",
              "      <td>22.500</td>\n",
              "      <td>70</td>\n",
              "      <td>Bosnia Herzegovina</td>\n",
              "      <td>Bosnia Herzegovina</td>\n",
              "      <td>BA</td>\n",
              "      <td>BIH</td>\n",
              "      <td>8</td>\n",
              "      <td>Albania</td>\n",
              "      <td>Albania</td>\n",
              "      <td>AL</td>\n",
              "      <td>ALB</td>\n",
              "      <td>251512</td>\n",
              "      <td>Marble and travertine: merely cut, by sawing o...</td>\n",
              "      <td>25</td>\n",
              "      <td>2515</td>\n",
              "    </tr>\n",
              "  </tbody>\n",
              "</table>\n",
              "</div>"
            ],
            "text/plain": [
              "   Year  Exporter  Importer  Product category   Value       Quantity  \\\n",
              "0  2020         4        31            251512  27.820        169.800   \n",
              "1  2020         4       699            251512  47.296         77.000   \n",
              "2  2020         8        40            251512   6.167         24.000   \n",
              "3  2020         8        56            251512  65.795        294.660   \n",
              "4  2020         8        70            251512   4.662         22.500   \n",
              "\n",
              "   Importer_country_code Importer_country_name_abbreviation  \\\n",
              "0                     31                         Azerbaijan   \n",
              "1                    699                              India   \n",
              "2                     40                            Austria   \n",
              "3                     56                            Belgium   \n",
              "4                     70                 Bosnia Herzegovina   \n",
              "\n",
              "  Importer_country_name_full Importer_iso_2digit_alpha  \\\n",
              "0                 Azerbaijan                        AZ   \n",
              "1                      India                        IN   \n",
              "2                    Austria                        AT   \n",
              "3                    Belgium                        BE   \n",
              "4         Bosnia Herzegovina                        BA   \n",
              "\n",
              "  Importer_iso_3digit_alpha  Exporter_country_code  \\\n",
              "0                       AZE                      4   \n",
              "1                       IND                      4   \n",
              "2                       AUT                      8   \n",
              "3                       BEL                      8   \n",
              "4                       BIH                      8   \n",
              "\n",
              "  Exporter_country_name_abbreviation Exporter_country_name_full  \\\n",
              "0                        Afghanistan                Afghanistan   \n",
              "1                        Afghanistan                Afghanistan   \n",
              "2                            Albania                    Albania   \n",
              "3                            Albania                    Albania   \n",
              "4                            Albania                    Albania   \n",
              "\n",
              "  Exporter_iso_2digit_alpha Exporter_iso_3digit_alpha  Product category_code  \\\n",
              "0                        AF                       AFG                 251512   \n",
              "1                        AF                       AFG                 251512   \n",
              "2                        AL                       ALB                 251512   \n",
              "3                        AL                       ALB                 251512   \n",
              "4                        AL                       ALB                 251512   \n",
              "\n",
              "                        Product category_description  Product category HS[2]  \\\n",
              "0  Marble and travertine: merely cut, by sawing o...                      25   \n",
              "1  Marble and travertine: merely cut, by sawing o...                      25   \n",
              "2  Marble and travertine: merely cut, by sawing o...                      25   \n",
              "3  Marble and travertine: merely cut, by sawing o...                      25   \n",
              "4  Marble and travertine: merely cut, by sawing o...                      25   \n",
              "\n",
              "   Product category HS[4]  \n",
              "0                    2515  \n",
              "1                    2515  \n",
              "2                    2515  \n",
              "3                    2515  \n",
              "4                    2515  "
            ]
          },
          "execution_count": 8,
          "metadata": {},
          "output_type": "execute_result"
        }
      ],
      "source": [
        "df.head()"
      ]
    },
    {
      "cell_type": "markdown",
      "metadata": {
        "id": "7uvlyjb7fe2l"
      },
      "source": []
    }
  ],
  "metadata": {
    "kernelspec": {
      "display_name": "Python 3.9.7 ('SeminarioProject')",
      "language": "python",
      "name": "python3"
    },
    "language_info": {
      "codemirror_mode": {
        "name": "ipython",
        "version": 3
      },
      "file_extension": ".py",
      "mimetype": "text/x-python",
      "name": "python",
      "nbconvert_exporter": "python",
      "pygments_lexer": "ipython3",
      "version": "3.9.7"
    },
    "orig_nbformat": 4,
    "vscode": {
      "interpreter": {
        "hash": "0de33f7968a57d6375ecd7a9982b9e33592f3f6502770c92fc9adee72fc9577c"
      }
    },
    "colab": {
      "provenance": []
    }
  },
  "nbformat": 4,
  "nbformat_minor": 0
}