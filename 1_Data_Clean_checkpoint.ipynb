{
  "cells": [
    {
      "cell_type": "markdown",
      "metadata": {
        "id": "view-in-github",
        "colab_type": "text"
      },
      "source": [
        "<a href=\"https://colab.research.google.com/github/sjninop/Cursosvarios/blob/main/1_Data_Clean_checkpoint.ipynb\" target=\"_parent\"><img src=\"https://colab.research.google.com/assets/colab-badge.svg\" alt=\"Open In Colab\"/></a>"
      ]
    },
    {
      "cell_type": "markdown",
      "metadata": {
        "id": "cdHA_eS3YoaU"
      },
      "source": [
        "# Data Cleaning BACI HS17 (2017 - 2020)"
      ]
    },
    {
      "cell_type": "markdown",
      "metadata": {
        "id": "E__hKNfWYoav"
      },
      "source": [
        "Name of the dataset : BACI\n",
        "\n",
        "Version : 202201\n",
        "\n",
        "Format : csv\n",
        "\n",
        "Release Date : 2022 02 24\n",
        "\n",
        "Weblink : http://www.cepii.fr/CEPII/en/bdd_modele/presentation.asp?id=37\n",
        "\n",
        "Content : Trade flows at the year - exporter - importer - product (HS6-digits) level. Value and quantity.\n",
        "\n",
        "List of Variables :\n",
        "t: year\n",
        "i: exporter\n",
        "j: importer\n",
        "k: product\n",
        "v: value \n",
        "q: quantity\n",
        "\n",
        "Reference : \n",
        "Gaulier, G. and Zignago, S. (2010)\n",
        "BACI: International Trade Database at the Product-Level. The 1994-2007 Version. \n",
        "CEPII Working Paper, N°2010-23\n"
      ]
    },
    {
      "cell_type": "code",
      "execution_count": null,
      "metadata": {
        "colab": {
          "base_uri": "https://localhost:8080/"
        },
        "id": "laArCIebZHII",
        "outputId": "f8df0041-0f2c-4164-997a-f4e269c5cf8f"
      },
      "outputs": [
        {
          "ename": "ModuleNotFoundError",
          "evalue": "No module named 'google'",
          "output_type": "error",
          "traceback": [
            "\u001b[1;31m---------------------------------------------------------------------------\u001b[0m",
            "\u001b[1;31mModuleNotFoundError\u001b[0m                       Traceback (most recent call last)",
            "Cell \u001b[1;32mIn [1], line 1\u001b[0m\n\u001b[1;32m----> 1\u001b[0m \u001b[39mfrom\u001b[39;00m \u001b[39mgoogle\u001b[39;00m\u001b[39m.\u001b[39;00m\u001b[39mcolab\u001b[39;00m \u001b[39mimport\u001b[39;00m drive\n\u001b[0;32m      2\u001b[0m drive\u001b[39m.\u001b[39mmount(\u001b[39m'\u001b[39m\u001b[39m/gdrive\u001b[39m\u001b[39m'\u001b[39m)\n\u001b[0;32m      3\u001b[0m get_ipython()\u001b[39m.\u001b[39mrun_line_magic(\u001b[39m'\u001b[39m\u001b[39mcd\u001b[39m\u001b[39m'\u001b[39m, \u001b[39m'\u001b[39m\u001b[39m/gdrive/Shareddrives/GENSyR /CSC (Ciencias Sociales Computacionales)/Revisión Bases de Datos/CEPII - BACI/BACI_HS17_V202201\u001b[39m\u001b[39m'\u001b[39m)\n",
            "\u001b[1;31mModuleNotFoundError\u001b[0m: No module named 'google'"
          ]
        }
      ],
      "source": [
        "from google.colab import drive\n",
        "drive.mount('/gdrive')\n",
        "%cd /gdrive/Shareddrives/GENSyR /CSC (Ciencias Sociales Computacionales)/Revisión Bases de Datos/CEPII - BACI/BACI_HS17_V202201\n"
      ]
    },
    {
      "cell_type": "code",
      "execution_count": null,
      "metadata": {
        "id": "IDDU_nNvYoax"
      },
      "outputs": [],
      "source": [
        "import pandas as pd\n",
        "import os\n",
        "import WTWCleaner as wtw"
      ]
    },
    {
      "cell_type": "markdown",
      "metadata": {
        "id": "WbrEuon5cof3"
      },
      "source": [
        "## Add Metadata"
      ]
    },
    {
      "cell_type": "code",
      "execution_count": null,
      "metadata": {
        "id": "542dJofuYoay"
      },
      "outputs": [],
      "source": [
        "# METADATA\n",
        "columns_dict = {\n",
        "    \"t\": \"Year\", \t\n",
        "    \"k\": \"Product category\" ,\t#(HS 6-digit code)\n",
        "    \"i\": \"Exporter\",            #(ISO 3-digit country code)\n",
        "    \"j\": \"Importer\",            #(ISO 3-digit country code)\n",
        "    \"v\": \"Value\",                #of the trade flow (in thousands current USD)\n",
        "    \"q\": \"Quantity\"             #(in metric tons)\n",
        "}"
      ]
    },
    {
      "cell_type": "code",
      "execution_count": null,
      "metadata": {
        "id": "qfaWlnMJcof4"
      },
      "outputs": [],
      "source": [
        "# FOLDERS\n",
        "FOLDER_DATA = 'BACI DATA/'\n",
        "FOLDER_META = 'Metadata/'\n",
        "OUTPUT = 'Processed Data/'\n"
      ]
    },
    {
      "cell_type": "code",
      "execution_count": null,
      "metadata": {
        "id": "whbPQCSicof5",
        "outputId": "8e54e9c9-4d99-462b-b3ee-e70477baf4c3"
      },
      "outputs": [
        {
          "data": {
            "text/plain": [
              "['BACI_HS17_Y2017_V202201.csv',\n",
              " 'BACI_HS17_Y2018_V202201.csv',\n",
              " 'BACI_HS17_Y2019_V202201.csv',\n",
              " 'BACI_HS17_Y2020_V202201.csv']"
            ]
          },
          "execution_count": 5,
          "metadata": {},
          "output_type": "execute_result"
        }
      ],
      "source": [
        "my_dir = os.listdir(FOLDER_DATA)\n",
        "my_dir"
      ]
    },
    {
      "cell_type": "code",
      "execution_count": null,
      "metadata": {
        "id": "iZZRa1tHYoa0",
        "outputId": "7f8f1688-3df0-4ea1-e159-db990bd1b233"
      },
      "outputs": [
        {
          "name": "stdout",
          "output_type": "stream",
          "text": [
            "BACI_HS17_Y2017_V202201.csv\n",
            "BACI_HS17_Y2018_V202201.csv\n",
            "BACI_HS17_Y2019_V202201.csv\n",
            "BACI_HS17_Y2020_V202201.csv\n"
          ]
        }
      ],
      "source": [
        "for file in my_dir:\n",
        "    print(file)\n",
        "    # Open BACI data\n",
        "    df = pd.read_csv(FOLDER_DATA + 'BACI_HS17_Y2020_V202201.csv', dtype='string')\n",
        "    # Open metadata\n",
        "    df_product_codes = pd.read_csv(FOLDER_META + 'product_codes_HS17_V202201.csv', dtype='string')\n",
        "    df_country_codes = pd.read_csv(FOLDER_META + 'country_codes_V202201.csv', dtype='string', encoding='latin-1')\n",
        "    # change column names with dictionary\n",
        "    df = wtw.enrich_baci(df, df_country_codes, df_product_codes)\n",
        "    df.to_csv(OUTPUT + file.split('.')[0] + '_Enriched.csv', index=False)\n",
        "    \n",
        "    # merge with product codes HS 4\n",
        "    "
      ]
    }
  ],
  "metadata": {
    "colab": {
      "provenance": [],
      "toc_visible": true,
      "include_colab_link": true
    },
    "kernelspec": {
      "display_name": "Python 3.9.7 ('SeminarioProject')",
      "language": "python",
      "name": "python3"
    },
    "language_info": {
      "codemirror_mode": {
        "name": "ipython",
        "version": 3
      },
      "file_extension": ".py",
      "mimetype": "text/x-python",
      "name": "python",
      "nbconvert_exporter": "python",
      "pygments_lexer": "ipython3",
      "version": "3.9.13"
    },
    "vscode": {
      "interpreter": {
        "hash": "0de33f7968a57d6375ecd7a9982b9e33592f3f6502770c92fc9adee72fc9577c"
      }
    }
  },
  "nbformat": 4,
  "nbformat_minor": 0
}